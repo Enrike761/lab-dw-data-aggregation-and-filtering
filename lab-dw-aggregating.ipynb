{
 "cells": [
  {
   "cell_type": "markdown",
   "id": "31969215-2a90-4d8b-ac36-646a7ae13744",
   "metadata": {
    "id": "31969215-2a90-4d8b-ac36-646a7ae13744"
   },
   "source": [
    "# Lab | Data Aggregation and Filtering"
   ]
  },
  {
   "cell_type": "markdown",
   "id": "a8f08a52-bec0-439b-99cc-11d3809d8b5d",
   "metadata": {
    "id": "a8f08a52-bec0-439b-99cc-11d3809d8b5d"
   },
   "source": [
    "In this challenge, we will continue to work with customer data from an insurance company. We will use the dataset called marketing_customer_analysis.csv, which can be found at the following link:\n",
    "\n",
    "https://raw.githubusercontent.com/data-bootcamp-v4/data/main/marketing_customer_analysis.csv\n",
    "\n",
    "This dataset contains information such as customer demographics, policy details, vehicle information, and the customer's response to the last marketing campaign. Our goal is to explore and analyze this data by first performing data cleaning, formatting, and structuring."
   ]
  },
  {
   "cell_type": "code",
   "execution_count": 37,
   "id": "ff68df33-c648-45fe-b0b1-715b49784fa0",
   "metadata": {},
   "outputs": [],
   "source": [
    "import pandas as pd\n",
    "import numpy as np\n",
    "import sys"
   ]
  },
  {
   "cell_type": "code",
   "execution_count": 33,
   "id": "92e52d3a-5318-466e-8621-752bf40a1575",
   "metadata": {},
   "outputs": [],
   "source": [
    "sys.path.append(r\"C:\\Users\\enrik\\Desktop\\apuntes\")"
   ]
  },
  {
   "cell_type": "code",
   "execution_count": 39,
   "id": "c283c39e-661f-4c11-9b74-4162c354c367",
   "metadata": {},
   "outputs": [
    {
     "ename": "NameError",
     "evalue": "name 'pd' is not defined",
     "output_type": "error",
     "traceback": [
      "\u001b[1;31m---------------------------------------------------------------------------\u001b[0m",
      "\u001b[1;31mNameError\u001b[0m                                 Traceback (most recent call last)",
      "Cell \u001b[1;32mIn[39], line 1\u001b[0m\n\u001b[1;32m----> 1\u001b[0m \u001b[38;5;28;01mimport\u001b[39;00m \u001b[38;5;21;01mfunctions_for_pd\u001b[39;00m\n",
      "File \u001b[1;32m~\\Desktop\\apuntes\\functions_for_pd.py:1\u001b[0m\n\u001b[1;32m----> 1\u001b[0m pd\u001b[38;5;241m.\u001b[39mset_option(\u001b[38;5;124m\"\u001b[39m\u001b[38;5;124mdisplay.max_columns\u001b[39m\u001b[38;5;124m\"\u001b[39m, \u001b[38;5;28;01mNone\u001b[39;00m)\n\u001b[0;32m      3\u001b[0m df \u001b[38;5;241m=\u001b[39m df\u001b[38;5;241m.\u001b[39mmap(\u001b[38;5;28;01mlambda\u001b[39;00m x: x\u001b[38;5;241m.\u001b[39mlower() \u001b[38;5;28;01mif\u001b[39;00m \u001b[38;5;28misinstance\u001b[39m(x, \u001b[38;5;28mstr\u001b[39m) \u001b[38;5;28;01melse\u001b[39;00m x)\n\u001b[0;32m      5\u001b[0m df\u001b[38;5;241m.\u001b[39mcolumns \u001b[38;5;241m=\u001b[39m df\u001b[38;5;241m.\u001b[39mcolumns\u001b[38;5;241m.\u001b[39mstr\u001b[38;5;241m.\u001b[39mlower()\n",
      "\u001b[1;31mNameError\u001b[0m: name 'pd' is not defined"
     ]
    }
   ],
   "source": [
    "import functions_for_pd"
   ]
  },
  {
   "cell_type": "code",
   "execution_count": 3,
   "id": "d3313cdd-f15f-4b3e-bda5-792cb822764d",
   "metadata": {},
   "outputs": [],
   "source": [
    "url = \"https://raw.githubusercontent.com/data-bootcamp-v4/data/main/marketing_customer_analysis.csv\"\n",
    "df = pd.read_csv(url)"
   ]
  },
  {
   "cell_type": "code",
   "execution_count": 65,
   "id": "e3ff6e1c-29e6-4ff8-9744-f154f56ebbd0",
   "metadata": {},
   "outputs": [],
   "source": [
    "df = df.map(lambda x: x.lower().replace(\" \", \"_\") if isinstance(x, str) else x)"
   ]
  },
  {
   "cell_type": "code",
   "execution_count": 47,
   "id": "a543a741-3836-4bf9-ae71-c7da1e4fd0c2",
   "metadata": {},
   "outputs": [],
   "source": [
    "pd.set_option(\"display.max_columns\", None)"
   ]
  },
  {
   "cell_type": "code",
   "execution_count": 77,
   "id": "5d9f73a5-9ebf-41b2-b1f6-c39c9ebdbf33",
   "metadata": {},
   "outputs": [
    {
     "data": {
      "text/html": [
       "<div>\n",
       "<style scoped>\n",
       "    .dataframe tbody tr th:only-of-type {\n",
       "        vertical-align: middle;\n",
       "    }\n",
       "\n",
       "    .dataframe tbody tr th {\n",
       "        vertical-align: top;\n",
       "    }\n",
       "\n",
       "    .dataframe thead th {\n",
       "        text-align: right;\n",
       "    }\n",
       "</style>\n",
       "<table border=\"1\" class=\"dataframe\">\n",
       "  <thead>\n",
       "    <tr style=\"text-align: right;\">\n",
       "      <th></th>\n",
       "      <th>unnamed:_0</th>\n",
       "      <th>customer</th>\n",
       "      <th>state</th>\n",
       "      <th>customer_lifetime_value</th>\n",
       "      <th>response</th>\n",
       "      <th>coverage</th>\n",
       "      <th>education</th>\n",
       "      <th>effective_to_date</th>\n",
       "      <th>employmentstatus</th>\n",
       "      <th>gender</th>\n",
       "      <th>income</th>\n",
       "      <th>location_code</th>\n",
       "      <th>marital_status</th>\n",
       "      <th>monthly_premium_auto</th>\n",
       "      <th>months_since_last_claim</th>\n",
       "      <th>months_since_policy_inception</th>\n",
       "      <th>number_of_open_complaints</th>\n",
       "      <th>number_of_policies</th>\n",
       "      <th>policy_type</th>\n",
       "      <th>policy</th>\n",
       "      <th>renew_offer_type</th>\n",
       "      <th>sales_channel</th>\n",
       "      <th>total_claim_amount</th>\n",
       "      <th>vehicle_class</th>\n",
       "      <th>vehicle_size</th>\n",
       "      <th>vehicle_type</th>\n",
       "    </tr>\n",
       "  </thead>\n",
       "  <tbody>\n",
       "    <tr>\n",
       "      <th>0</th>\n",
       "      <td>0</td>\n",
       "      <td>dk49336</td>\n",
       "      <td>arizona</td>\n",
       "      <td>4809.216960</td>\n",
       "      <td>no</td>\n",
       "      <td>basic</td>\n",
       "      <td>college</td>\n",
       "      <td>2/18/11</td>\n",
       "      <td>employed</td>\n",
       "      <td>m</td>\n",
       "      <td>48029</td>\n",
       "      <td>suburban</td>\n",
       "      <td>married</td>\n",
       "      <td>61</td>\n",
       "      <td>7.0</td>\n",
       "      <td>52</td>\n",
       "      <td>0.0</td>\n",
       "      <td>9</td>\n",
       "      <td>corporate_auto</td>\n",
       "      <td>corporate_l3</td>\n",
       "      <td>offer3</td>\n",
       "      <td>agent</td>\n",
       "      <td>292.800000</td>\n",
       "      <td>four-door_car</td>\n",
       "      <td>medsize</td>\n",
       "      <td>NaN</td>\n",
       "    </tr>\n",
       "    <tr>\n",
       "      <th>1</th>\n",
       "      <td>1</td>\n",
       "      <td>kx64629</td>\n",
       "      <td>california</td>\n",
       "      <td>2228.525238</td>\n",
       "      <td>no</td>\n",
       "      <td>basic</td>\n",
       "      <td>college</td>\n",
       "      <td>1/18/11</td>\n",
       "      <td>unemployed</td>\n",
       "      <td>f</td>\n",
       "      <td>0</td>\n",
       "      <td>suburban</td>\n",
       "      <td>single</td>\n",
       "      <td>64</td>\n",
       "      <td>3.0</td>\n",
       "      <td>26</td>\n",
       "      <td>0.0</td>\n",
       "      <td>1</td>\n",
       "      <td>personal_auto</td>\n",
       "      <td>personal_l3</td>\n",
       "      <td>offer4</td>\n",
       "      <td>call_center</td>\n",
       "      <td>744.924331</td>\n",
       "      <td>four-door_car</td>\n",
       "      <td>medsize</td>\n",
       "      <td>NaN</td>\n",
       "    </tr>\n",
       "    <tr>\n",
       "      <th>2</th>\n",
       "      <td>2</td>\n",
       "      <td>lz68649</td>\n",
       "      <td>washington</td>\n",
       "      <td>14947.917300</td>\n",
       "      <td>no</td>\n",
       "      <td>basic</td>\n",
       "      <td>bachelor</td>\n",
       "      <td>2/10/11</td>\n",
       "      <td>employed</td>\n",
       "      <td>m</td>\n",
       "      <td>22139</td>\n",
       "      <td>suburban</td>\n",
       "      <td>single</td>\n",
       "      <td>100</td>\n",
       "      <td>34.0</td>\n",
       "      <td>31</td>\n",
       "      <td>0.0</td>\n",
       "      <td>2</td>\n",
       "      <td>personal_auto</td>\n",
       "      <td>personal_l3</td>\n",
       "      <td>offer3</td>\n",
       "      <td>call_center</td>\n",
       "      <td>480.000000</td>\n",
       "      <td>suv</td>\n",
       "      <td>medsize</td>\n",
       "      <td>a</td>\n",
       "    </tr>\n",
       "    <tr>\n",
       "      <th>3</th>\n",
       "      <td>3</td>\n",
       "      <td>xl78013</td>\n",
       "      <td>oregon</td>\n",
       "      <td>22332.439460</td>\n",
       "      <td>yes</td>\n",
       "      <td>extended</td>\n",
       "      <td>college</td>\n",
       "      <td>1/11/11</td>\n",
       "      <td>employed</td>\n",
       "      <td>m</td>\n",
       "      <td>49078</td>\n",
       "      <td>suburban</td>\n",
       "      <td>single</td>\n",
       "      <td>97</td>\n",
       "      <td>10.0</td>\n",
       "      <td>3</td>\n",
       "      <td>0.0</td>\n",
       "      <td>2</td>\n",
       "      <td>corporate_auto</td>\n",
       "      <td>corporate_l3</td>\n",
       "      <td>offer2</td>\n",
       "      <td>branch</td>\n",
       "      <td>484.013411</td>\n",
       "      <td>four-door_car</td>\n",
       "      <td>medsize</td>\n",
       "      <td>a</td>\n",
       "    </tr>\n",
       "    <tr>\n",
       "      <th>4</th>\n",
       "      <td>4</td>\n",
       "      <td>qa50777</td>\n",
       "      <td>oregon</td>\n",
       "      <td>9025.067525</td>\n",
       "      <td>no</td>\n",
       "      <td>premium</td>\n",
       "      <td>bachelor</td>\n",
       "      <td>1/17/11</td>\n",
       "      <td>medical_leave</td>\n",
       "      <td>f</td>\n",
       "      <td>23675</td>\n",
       "      <td>suburban</td>\n",
       "      <td>married</td>\n",
       "      <td>117</td>\n",
       "      <td>NaN</td>\n",
       "      <td>31</td>\n",
       "      <td>NaN</td>\n",
       "      <td>7</td>\n",
       "      <td>personal_auto</td>\n",
       "      <td>personal_l2</td>\n",
       "      <td>offer1</td>\n",
       "      <td>branch</td>\n",
       "      <td>707.925645</td>\n",
       "      <td>four-door_car</td>\n",
       "      <td>medsize</td>\n",
       "      <td>NaN</td>\n",
       "    </tr>\n",
       "    <tr>\n",
       "      <th>...</th>\n",
       "      <td>...</td>\n",
       "      <td>...</td>\n",
       "      <td>...</td>\n",
       "      <td>...</td>\n",
       "      <td>...</td>\n",
       "      <td>...</td>\n",
       "      <td>...</td>\n",
       "      <td>...</td>\n",
       "      <td>...</td>\n",
       "      <td>...</td>\n",
       "      <td>...</td>\n",
       "      <td>...</td>\n",
       "      <td>...</td>\n",
       "      <td>...</td>\n",
       "      <td>...</td>\n",
       "      <td>...</td>\n",
       "      <td>...</td>\n",
       "      <td>...</td>\n",
       "      <td>...</td>\n",
       "      <td>...</td>\n",
       "      <td>...</td>\n",
       "      <td>...</td>\n",
       "      <td>...</td>\n",
       "      <td>...</td>\n",
       "      <td>...</td>\n",
       "      <td>...</td>\n",
       "    </tr>\n",
       "    <tr>\n",
       "      <th>10905</th>\n",
       "      <td>10905</td>\n",
       "      <td>fe99816</td>\n",
       "      <td>nevada</td>\n",
       "      <td>15563.369440</td>\n",
       "      <td>no</td>\n",
       "      <td>premium</td>\n",
       "      <td>bachelor</td>\n",
       "      <td>1/19/11</td>\n",
       "      <td>unemployed</td>\n",
       "      <td>f</td>\n",
       "      <td>0</td>\n",
       "      <td>suburban</td>\n",
       "      <td>married</td>\n",
       "      <td>253</td>\n",
       "      <td>NaN</td>\n",
       "      <td>40</td>\n",
       "      <td>NaN</td>\n",
       "      <td>7</td>\n",
       "      <td>personal_auto</td>\n",
       "      <td>personal_l1</td>\n",
       "      <td>offer3</td>\n",
       "      <td>web</td>\n",
       "      <td>1214.400000</td>\n",
       "      <td>luxury_car</td>\n",
       "      <td>medsize</td>\n",
       "      <td>a</td>\n",
       "    </tr>\n",
       "    <tr>\n",
       "      <th>10906</th>\n",
       "      <td>10906</td>\n",
       "      <td>kx53892</td>\n",
       "      <td>oregon</td>\n",
       "      <td>5259.444853</td>\n",
       "      <td>no</td>\n",
       "      <td>basic</td>\n",
       "      <td>college</td>\n",
       "      <td>1/6/11</td>\n",
       "      <td>employed</td>\n",
       "      <td>f</td>\n",
       "      <td>61146</td>\n",
       "      <td>urban</td>\n",
       "      <td>married</td>\n",
       "      <td>65</td>\n",
       "      <td>7.0</td>\n",
       "      <td>68</td>\n",
       "      <td>0.0</td>\n",
       "      <td>6</td>\n",
       "      <td>personal_auto</td>\n",
       "      <td>personal_l3</td>\n",
       "      <td>offer2</td>\n",
       "      <td>branch</td>\n",
       "      <td>273.018929</td>\n",
       "      <td>four-door_car</td>\n",
       "      <td>medsize</td>\n",
       "      <td>a</td>\n",
       "    </tr>\n",
       "    <tr>\n",
       "      <th>10907</th>\n",
       "      <td>10907</td>\n",
       "      <td>tl39050</td>\n",
       "      <td>arizona</td>\n",
       "      <td>23893.304100</td>\n",
       "      <td>no</td>\n",
       "      <td>extended</td>\n",
       "      <td>bachelor</td>\n",
       "      <td>2/6/11</td>\n",
       "      <td>employed</td>\n",
       "      <td>f</td>\n",
       "      <td>39837</td>\n",
       "      <td>rural</td>\n",
       "      <td>married</td>\n",
       "      <td>201</td>\n",
       "      <td>11.0</td>\n",
       "      <td>63</td>\n",
       "      <td>0.0</td>\n",
       "      <td>2</td>\n",
       "      <td>corporate_auto</td>\n",
       "      <td>corporate_l3</td>\n",
       "      <td>offer1</td>\n",
       "      <td>web</td>\n",
       "      <td>381.306996</td>\n",
       "      <td>luxury_suv</td>\n",
       "      <td>medsize</td>\n",
       "      <td>NaN</td>\n",
       "    </tr>\n",
       "    <tr>\n",
       "      <th>10908</th>\n",
       "      <td>10908</td>\n",
       "      <td>wa60547</td>\n",
       "      <td>california</td>\n",
       "      <td>11971.977650</td>\n",
       "      <td>no</td>\n",
       "      <td>premium</td>\n",
       "      <td>college</td>\n",
       "      <td>2/13/11</td>\n",
       "      <td>employed</td>\n",
       "      <td>f</td>\n",
       "      <td>64195</td>\n",
       "      <td>urban</td>\n",
       "      <td>divorced</td>\n",
       "      <td>158</td>\n",
       "      <td>0.0</td>\n",
       "      <td>27</td>\n",
       "      <td>4.0</td>\n",
       "      <td>6</td>\n",
       "      <td>personal_auto</td>\n",
       "      <td>personal_l1</td>\n",
       "      <td>offer1</td>\n",
       "      <td>branch</td>\n",
       "      <td>618.288849</td>\n",
       "      <td>suv</td>\n",
       "      <td>medsize</td>\n",
       "      <td>a</td>\n",
       "    </tr>\n",
       "    <tr>\n",
       "      <th>10909</th>\n",
       "      <td>10909</td>\n",
       "      <td>iv32877</td>\n",
       "      <td>NaN</td>\n",
       "      <td>6857.519928</td>\n",
       "      <td>NaN</td>\n",
       "      <td>basic</td>\n",
       "      <td>bachelor</td>\n",
       "      <td>1/8/11</td>\n",
       "      <td>unemployed</td>\n",
       "      <td>m</td>\n",
       "      <td>0</td>\n",
       "      <td>suburban</td>\n",
       "      <td>single</td>\n",
       "      <td>101</td>\n",
       "      <td>31.0</td>\n",
       "      <td>1</td>\n",
       "      <td>0.0</td>\n",
       "      <td>3</td>\n",
       "      <td>personal_auto</td>\n",
       "      <td>personal_l1</td>\n",
       "      <td>offer4</td>\n",
       "      <td>web</td>\n",
       "      <td>1021.719397</td>\n",
       "      <td>suv</td>\n",
       "      <td>medsize</td>\n",
       "      <td>NaN</td>\n",
       "    </tr>\n",
       "  </tbody>\n",
       "</table>\n",
       "<p>10910 rows × 26 columns</p>\n",
       "</div>"
      ],
      "text/plain": [
       "       unnamed:_0 customer       state  customer_lifetime_value response  \\\n",
       "0               0  dk49336     arizona              4809.216960       no   \n",
       "1               1  kx64629  california              2228.525238       no   \n",
       "2               2  lz68649  washington             14947.917300       no   \n",
       "3               3  xl78013      oregon             22332.439460      yes   \n",
       "4               4  qa50777      oregon              9025.067525       no   \n",
       "...           ...      ...         ...                      ...      ...   \n",
       "10905       10905  fe99816      nevada             15563.369440       no   \n",
       "10906       10906  kx53892      oregon              5259.444853       no   \n",
       "10907       10907  tl39050     arizona             23893.304100       no   \n",
       "10908       10908  wa60547  california             11971.977650       no   \n",
       "10909       10909  iv32877         NaN              6857.519928      NaN   \n",
       "\n",
       "       coverage education effective_to_date employmentstatus gender  income  \\\n",
       "0         basic   college           2/18/11         employed      m   48029   \n",
       "1         basic   college           1/18/11       unemployed      f       0   \n",
       "2         basic  bachelor           2/10/11         employed      m   22139   \n",
       "3      extended   college           1/11/11         employed      m   49078   \n",
       "4       premium  bachelor           1/17/11    medical_leave      f   23675   \n",
       "...         ...       ...               ...              ...    ...     ...   \n",
       "10905   premium  bachelor           1/19/11       unemployed      f       0   \n",
       "10906     basic   college            1/6/11         employed      f   61146   \n",
       "10907  extended  bachelor            2/6/11         employed      f   39837   \n",
       "10908   premium   college           2/13/11         employed      f   64195   \n",
       "10909     basic  bachelor            1/8/11       unemployed      m       0   \n",
       "\n",
       "      location_code marital_status  monthly_premium_auto  \\\n",
       "0          suburban        married                    61   \n",
       "1          suburban         single                    64   \n",
       "2          suburban         single                   100   \n",
       "3          suburban         single                    97   \n",
       "4          suburban        married                   117   \n",
       "...             ...            ...                   ...   \n",
       "10905      suburban        married                   253   \n",
       "10906         urban        married                    65   \n",
       "10907         rural        married                   201   \n",
       "10908         urban       divorced                   158   \n",
       "10909      suburban         single                   101   \n",
       "\n",
       "       months_since_last_claim  months_since_policy_inception  \\\n",
       "0                          7.0                             52   \n",
       "1                          3.0                             26   \n",
       "2                         34.0                             31   \n",
       "3                         10.0                              3   \n",
       "4                          NaN                             31   \n",
       "...                        ...                            ...   \n",
       "10905                      NaN                             40   \n",
       "10906                      7.0                             68   \n",
       "10907                     11.0                             63   \n",
       "10908                      0.0                             27   \n",
       "10909                     31.0                              1   \n",
       "\n",
       "       number_of_open_complaints  number_of_policies     policy_type  \\\n",
       "0                            0.0                   9  corporate_auto   \n",
       "1                            0.0                   1   personal_auto   \n",
       "2                            0.0                   2   personal_auto   \n",
       "3                            0.0                   2  corporate_auto   \n",
       "4                            NaN                   7   personal_auto   \n",
       "...                          ...                 ...             ...   \n",
       "10905                        NaN                   7   personal_auto   \n",
       "10906                        0.0                   6   personal_auto   \n",
       "10907                        0.0                   2  corporate_auto   \n",
       "10908                        4.0                   6   personal_auto   \n",
       "10909                        0.0                   3   personal_auto   \n",
       "\n",
       "             policy renew_offer_type sales_channel  total_claim_amount  \\\n",
       "0      corporate_l3           offer3         agent          292.800000   \n",
       "1       personal_l3           offer4   call_center          744.924331   \n",
       "2       personal_l3           offer3   call_center          480.000000   \n",
       "3      corporate_l3           offer2        branch          484.013411   \n",
       "4       personal_l2           offer1        branch          707.925645   \n",
       "...             ...              ...           ...                 ...   \n",
       "10905   personal_l1           offer3           web         1214.400000   \n",
       "10906   personal_l3           offer2        branch          273.018929   \n",
       "10907  corporate_l3           offer1           web          381.306996   \n",
       "10908   personal_l1           offer1        branch          618.288849   \n",
       "10909   personal_l1           offer4           web         1021.719397   \n",
       "\n",
       "       vehicle_class vehicle_size vehicle_type  \n",
       "0      four-door_car      medsize          NaN  \n",
       "1      four-door_car      medsize          NaN  \n",
       "2                suv      medsize            a  \n",
       "3      four-door_car      medsize            a  \n",
       "4      four-door_car      medsize          NaN  \n",
       "...              ...          ...          ...  \n",
       "10905     luxury_car      medsize            a  \n",
       "10906  four-door_car      medsize            a  \n",
       "10907     luxury_suv      medsize          NaN  \n",
       "10908            suv      medsize            a  \n",
       "10909            suv      medsize          NaN  \n",
       "\n",
       "[10910 rows x 26 columns]"
      ]
     },
     "execution_count": 77,
     "metadata": {},
     "output_type": "execute_result"
    }
   ],
   "source": [
    "df"
   ]
  },
  {
   "cell_type": "code",
   "execution_count": 71,
   "id": "ed347b06-d3ab-4af7-9af4-c4434a9340a5",
   "metadata": {},
   "outputs": [],
   "source": [
    "df.columns = df.columns.str.lower().str.replace(\" \", \"_\")"
   ]
  },
  {
   "cell_type": "markdown",
   "id": "9c98ddc5-b041-4c94-ada1-4dfee5c98e50",
   "metadata": {
    "id": "9c98ddc5-b041-4c94-ada1-4dfee5c98e50"
   },
   "source": [
    "1. Create a new DataFrame that only includes customers who have a total_claim_amount greater than $1,000 and have a response of \"Yes\" to the last marketing campaign."
   ]
  },
  {
   "cell_type": "code",
   "execution_count": 73,
   "id": "7bd2dfab-28a1-408c-8a33-efbdb6a3d58b",
   "metadata": {},
   "outputs": [
    {
     "name": "stdout",
     "output_type": "stream",
     "text": [
      "Index(['unnamed:_0', 'customer', 'state', 'customer_lifetime_value',\n",
      "       'response', 'coverage', 'education', 'effective_to_date',\n",
      "       'employmentstatus', 'gender', 'income', 'location_code',\n",
      "       'marital_status', 'monthly_premium_auto', 'months_since_last_claim',\n",
      "       'months_since_policy_inception', 'number_of_open_complaints',\n",
      "       'number_of_policies', 'policy_type', 'policy', 'renew_offer_type',\n",
      "       'sales_channel', 'total_claim_amount', 'vehicle_class', 'vehicle_size',\n",
      "       'vehicle_type'],\n",
      "      dtype='object')\n"
     ]
    }
   ],
   "source": [
    "print(df.columns)"
   ]
  },
  {
   "cell_type": "code",
   "execution_count": 79,
   "id": "d1c9d59d-79e0-453c-b489-bea2e9a1e159",
   "metadata": {},
   "outputs": [],
   "source": [
    "df_filtered = df.loc[(df[\"total_claim_amount\"] > 1000) & (df[\"response\"] == \"Yes\"), [\"customer\"]]"
   ]
  },
  {
   "cell_type": "code",
   "execution_count": 81,
   "id": "65f5f337-f7d5-4064-8202-88ca0afeecde",
   "metadata": {},
   "outputs": [
    {
     "data": {
      "text/html": [
       "<div>\n",
       "<style scoped>\n",
       "    .dataframe tbody tr th:only-of-type {\n",
       "        vertical-align: middle;\n",
       "    }\n",
       "\n",
       "    .dataframe tbody tr th {\n",
       "        vertical-align: top;\n",
       "    }\n",
       "\n",
       "    .dataframe thead th {\n",
       "        text-align: right;\n",
       "    }\n",
       "</style>\n",
       "<table border=\"1\" class=\"dataframe\">\n",
       "  <thead>\n",
       "    <tr style=\"text-align: right;\">\n",
       "      <th></th>\n",
       "      <th>customer</th>\n",
       "    </tr>\n",
       "  </thead>\n",
       "  <tbody>\n",
       "  </tbody>\n",
       "</table>\n",
       "</div>"
      ],
      "text/plain": [
       "Empty DataFrame\n",
       "Columns: [customer]\n",
       "Index: []"
      ]
     },
     "execution_count": 81,
     "metadata": {},
     "output_type": "execute_result"
    }
   ],
   "source": [
    "df_filtered"
   ]
  },
  {
   "cell_type": "code",
   "execution_count": null,
   "id": "4ec85687-fcef-4edb-b891-1b780f1a55e0",
   "metadata": {},
   "outputs": [],
   "source": [
    "#if no extra mistake happened, there are no customers whose amount is greater than 1000 and yes as response"
   ]
  },
  {
   "cell_type": "markdown",
   "id": "b9be383e-5165-436e-80c8-57d4c757c8c3",
   "metadata": {
    "id": "b9be383e-5165-436e-80c8-57d4c757c8c3"
   },
   "source": [
    "2. Using the original Dataframe, analyze the average total_claim_amount by each policy type and gender for customers who have responded \"Yes\" to the last marketing campaign. Write your conclusions."
   ]
  },
  {
   "cell_type": "code",
   "execution_count": 87,
   "id": "e5b72dd0-7232-4c8c-a059-21befec1a629",
   "metadata": {},
   "outputs": [
    {
     "data": {
      "text/plain": [
       "policy_type\n",
       "corporate_auto    429.667426\n",
       "personal_auto     436.074175\n",
       "special_auto      440.746794\n",
       "Name: total_claim_amount, dtype: float64"
      ]
     },
     "execution_count": 87,
     "metadata": {},
     "output_type": "execute_result"
    }
   ],
   "source": [
    "df.groupby(\"policy_type\")[\"total_claim_amount\"].mean() # there are no great difference between policy types according to money"
   ]
  },
  {
   "cell_type": "code",
   "execution_count": 95,
   "id": "754fd537-fc65-458b-8c63-449845b04add",
   "metadata": {},
   "outputs": [],
   "source": [
    "df_filter1 = df[(df[\"response\"] == \"yes\")]"
   ]
  },
  {
   "cell_type": "code",
   "execution_count": 99,
   "id": "3fc20c4e-3ab9-43a7-a2b4-212b961f486f",
   "metadata": {},
   "outputs": [
    {
     "data": {
      "text/plain": [
       "gender\n",
       "f    744\n",
       "m    722\n",
       "Name: customer, dtype: int64"
      ]
     },
     "execution_count": 99,
     "metadata": {},
     "output_type": "execute_result"
    }
   ],
   "source": [
    "df_filter1.groupby(\"gender\")[\"customer\"].count()"
   ]
  },
  {
   "cell_type": "code",
   "execution_count": null,
   "id": "abd58ba7-0588-4aa1-9a37-9b0e7e708ce4",
   "metadata": {},
   "outputs": [],
   "source": [
    "# the conclusion might be that women have more accidents than men, so they make more use of the policy and claim more money (also they probably pay more)"
   ]
  },
  {
   "cell_type": "markdown",
   "id": "7050f4ac-53c5-4193-a3c0-8699b87196f0",
   "metadata": {
    "id": "7050f4ac-53c5-4193-a3c0-8699b87196f0"
   },
   "source": [
    "3. Analyze the total number of customers who have policies in each state, and then filter the results to only include states where there are more than 500 customers."
   ]
  },
  {
   "cell_type": "code",
   "execution_count": 103,
   "id": "fec7e9b4-734d-438b-bad2-8cdbab953c61",
   "metadata": {},
   "outputs": [
    {
     "data": {
      "text/plain": [
       "state\n",
       "arizona       1937\n",
       "california    3552\n",
       "nevada         993\n",
       "oregon        2909\n",
       "washington     888\n",
       "Name: policy, dtype: int64"
      ]
     },
     "execution_count": 103,
     "metadata": {},
     "output_type": "execute_result"
    }
   ],
   "source": [
    "df.groupby(\"state\")[\"policy\"].count()"
   ]
  },
  {
   "cell_type": "code",
   "execution_count": 107,
   "id": "6afb90f4-81c7-4b20-93a6-452373e99fb7",
   "metadata": {},
   "outputs": [
    {
     "ename": "TypeError",
     "evalue": "'>' not supported between instances of 'method' and 'int'",
     "output_type": "error",
     "traceback": [
      "\u001b[1;31m---------------------------------------------------------------------------\u001b[0m",
      "\u001b[1;31mTypeError\u001b[0m                                 Traceback (most recent call last)",
      "Cell \u001b[1;32mIn[107], line 1\u001b[0m\n\u001b[1;32m----> 1\u001b[0m df_filter2 \u001b[38;5;241m=\u001b[39m df[(df[\u001b[38;5;124m\"\u001b[39m\u001b[38;5;124mstate\u001b[39m\u001b[38;5;124m\"\u001b[39m]\u001b[38;5;241m.\u001b[39mvalue_counts) \u001b[38;5;241m>\u001b[39m \u001b[38;5;241m500\u001b[39m]\n",
      "\u001b[1;31mTypeError\u001b[0m: '>' not supported between instances of 'method' and 'int'"
     ]
    }
   ],
   "source": [
    "df_filter2 = df[(df[\"state\"].value_counts) > 500]"
   ]
  },
  {
   "cell_type": "code",
   "execution_count": 133,
   "id": "338bc078-7b5c-4b3c-814b-5e41629b9514",
   "metadata": {},
   "outputs": [],
   "source": [
    "dfstate = df[\"state\"].value_counts()"
   ]
  },
  {
   "cell_type": "code",
   "execution_count": 135,
   "id": "beb6ea8f-541f-4ef9-8ef9-78121b43fd44",
   "metadata": {},
   "outputs": [],
   "source": [
    "dfstate2= dfstate[dfstate > 500]"
   ]
  },
  {
   "cell_type": "code",
   "execution_count": 137,
   "id": "1e569928-d643-4f01-9671-36b556c2be0d",
   "metadata": {},
   "outputs": [
    {
     "data": {
      "text/plain": [
       "state\n",
       "california    3552\n",
       "oregon        2909\n",
       "arizona       1937\n",
       "nevada         993\n",
       "washington     888\n",
       "Name: count, dtype: int64"
      ]
     },
     "execution_count": 137,
     "metadata": {},
     "output_type": "execute_result"
    }
   ],
   "source": [
    "dfstate2"
   ]
  },
  {
   "cell_type": "markdown",
   "id": "b60a4443-a1a7-4bbf-b78e-9ccdf9895e0d",
   "metadata": {
    "id": "b60a4443-a1a7-4bbf-b78e-9ccdf9895e0d"
   },
   "source": [
    "4. Find the maximum, minimum, and median customer lifetime value by education level and gender. Write your conclusions."
   ]
  },
  {
   "cell_type": "code",
   "execution_count": 143,
   "id": "b7de6e66-02c5-461f-b14e-54cafd62cd52",
   "metadata": {},
   "outputs": [
    {
     "data": {
      "text/plain": [
       "education\n",
       "bachelor                73225.95652\n",
       "college                 61850.18803\n",
       "doctor                  44856.11397\n",
       "high_school_or_below    83325.38119\n",
       "master                  51016.06704\n",
       "Name: customer_lifetime_value, dtype: float64"
      ]
     },
     "execution_count": 143,
     "metadata": {},
     "output_type": "execute_result"
    }
   ],
   "source": [
    "df.groupby(\"education\")[\"customer_lifetime_value\"].max()"
   ]
  },
  {
   "cell_type": "code",
   "execution_count": 145,
   "id": "ea3228db-0ba7-49a8-9053-87d2184be82b",
   "metadata": {},
   "outputs": [
    {
     "data": {
      "text/plain": [
       "education\n",
       "bachelor                1898.007675\n",
       "college                 1898.683686\n",
       "doctor                  2267.604038\n",
       "high_school_or_below    1940.981221\n",
       "master                  2272.307310\n",
       "Name: customer_lifetime_value, dtype: float64"
      ]
     },
     "execution_count": 145,
     "metadata": {},
     "output_type": "execute_result"
    }
   ],
   "source": [
    "df.groupby(\"education\")[\"customer_lifetime_value\"].min()"
   ]
  },
  {
   "cell_type": "code",
   "execution_count": 147,
   "id": "c02b9bdc-9cd3-42c0-8bbe-a99f0bdb463c",
   "metadata": {},
   "outputs": [
    {
     "data": {
      "text/plain": [
       "education\n",
       "bachelor                5579.380404\n",
       "college                 5813.629209\n",
       "doctor                  5423.136755\n",
       "high_school_or_below    6189.348131\n",
       "master                  5680.467468\n",
       "Name: customer_lifetime_value, dtype: float64"
      ]
     },
     "execution_count": 147,
     "metadata": {},
     "output_type": "execute_result"
    }
   ],
   "source": [
    "df.groupby(\"education\")[\"customer_lifetime_value\"].median()"
   ]
  },
  {
   "cell_type": "code",
   "execution_count": null,
   "id": "76a9c4ea-40eb-44b9-b97b-cfb99e08d6da",
   "metadata": {},
   "outputs": [],
   "source": [
    "# we can see that more educated people tend to be neutral clients. business wont get much money from them, probably because they have less accidents\n",
    "# but the minimum charge is higher than others, probably because they have better vehicles\n",
    "# we can also see that less educated people have a wider range of CLV, which means that they type of people is more sparse and irregular"
   ]
  },
  {
   "cell_type": "code",
   "execution_count": 149,
   "id": "fe121451-8f98-40de-ab12-04c6c4981b7b",
   "metadata": {},
   "outputs": [
    {
     "data": {
      "text/plain": [
       "gender\n",
       "f    73225.95652\n",
       "m    83325.38119\n",
       "Name: customer_lifetime_value, dtype: float64"
      ]
     },
     "execution_count": 149,
     "metadata": {},
     "output_type": "execute_result"
    }
   ],
   "source": [
    "df.groupby(\"gender\")[\"customer_lifetime_value\"].max()"
   ]
  },
  {
   "cell_type": "code",
   "execution_count": 151,
   "id": "11256fb8-a86e-4c6a-bffc-a97a40e97c40",
   "metadata": {},
   "outputs": [
    {
     "data": {
      "text/plain": [
       "gender\n",
       "f    1898.683686\n",
       "m    1898.007675\n",
       "Name: customer_lifetime_value, dtype: float64"
      ]
     },
     "execution_count": 151,
     "metadata": {},
     "output_type": "execute_result"
    }
   ],
   "source": [
    "df.groupby(\"gender\")[\"customer_lifetime_value\"].min()"
   ]
  },
  {
   "cell_type": "code",
   "execution_count": 153,
   "id": "031e0e44-3800-4238-85ed-d28519a4306a",
   "metadata": {},
   "outputs": [
    {
     "data": {
      "text/plain": [
       "gender\n",
       "f    5714.165863\n",
       "m    5824.224192\n",
       "Name: customer_lifetime_value, dtype: float64"
      ]
     },
     "execution_count": 153,
     "metadata": {},
     "output_type": "execute_result"
    }
   ],
   "source": [
    "df.groupby(\"gender\")[\"customer_lifetime_value\"].median()"
   ]
  },
  {
   "cell_type": "code",
   "execution_count": null,
   "id": "3ff81a6a-d03f-4797-808e-abe864b6072a",
   "metadata": {},
   "outputs": [],
   "source": [
    "# we can here observe that apparently men are more profitable for business according to the max and median"
   ]
  },
  {
   "cell_type": "markdown",
   "id": "b42999f9-311f-481e-ae63-40a5577072c5",
   "metadata": {
    "id": "b42999f9-311f-481e-ae63-40a5577072c5"
   },
   "source": [
    "## Bonus"
   ]
  },
  {
   "cell_type": "markdown",
   "id": "81ff02c5-6584-4f21-a358-b918697c6432",
   "metadata": {
    "id": "81ff02c5-6584-4f21-a358-b918697c6432"
   },
   "source": [
    "5. The marketing team wants to analyze the number of policies sold by state and month. Present the data in a table where the months are arranged as columns and the states are arranged as rows."
   ]
  },
  {
   "cell_type": "markdown",
   "id": "b6aec097-c633-4017-a125-e77a97259cda",
   "metadata": {
    "id": "b6aec097-c633-4017-a125-e77a97259cda"
   },
   "source": [
    "6.  Display a new DataFrame that contains the number of policies sold by month, by state, for the top 3 states with the highest number of policies sold.\n",
    "\n",
    "*Hint:*\n",
    "- *To accomplish this, you will first need to group the data by state and month, then count the number of policies sold for each group. Afterwards, you will need to sort the data by the count of policies sold in descending order.*\n",
    "- *Next, you will select the top 3 states with the highest number of policies sold.*\n",
    "- *Finally, you will create a new DataFrame that contains the number of policies sold by month for each of the top 3 states.*"
   ]
  },
  {
   "cell_type": "markdown",
   "id": "ba975b8a-a2cf-4fbf-9f59-ebc381767009",
   "metadata": {
    "id": "ba975b8a-a2cf-4fbf-9f59-ebc381767009"
   },
   "source": [
    "7. The marketing team wants to analyze the effect of different marketing channels on the customer response rate.\n",
    "\n",
    "Hint: You can use melt to unpivot the data and create a table that shows the customer response rate (those who responded \"Yes\") by marketing channel."
   ]
  },
  {
   "cell_type": "markdown",
   "id": "e4378d94-48fb-4850-a802-b1bc8f427b2d",
   "metadata": {
    "id": "e4378d94-48fb-4850-a802-b1bc8f427b2d"
   },
   "source": [
    "External Resources for Data Filtering: https://towardsdatascience.com/filtering-data-frames-in-pandas-b570b1f834b9"
   ]
  },
  {
   "cell_type": "code",
   "execution_count": 155,
   "id": "449513f4-0459-46a0-a18d-9398d974c9ad",
   "metadata": {
    "id": "449513f4-0459-46a0-a18d-9398d974c9ad"
   },
   "outputs": [
    {
     "name": "stderr",
     "output_type": "stream",
     "text": [
      "C:\\Users\\enrik\\AppData\\Local\\Temp\\ipykernel_17796\\2738842615.py:3: UserWarning: Could not infer format, so each element will be parsed individually, falling back to `dateutil`. To ensure parsing is consistent and as-expected, please specify a format.\n",
      "  df[\"effective_to_date\"] = pd.to_datetime(df[\"effective_to_date\"], errors = \"coerce\")\n"
     ]
    }
   ],
   "source": [
    "# your code goes here\n",
    "# first we need to pass the datetime to the spanish one where month is on the second place\n",
    "df[\"effective_to_date\"] = pd.to_datetime(df[\"effective_to_date\"], errors = \"coerce\")"
   ]
  },
  {
   "cell_type": "code",
   "execution_count": 157,
   "id": "b618e36e-a56d-46e9-b4e0-e7e7416066bd",
   "metadata": {},
   "outputs": [
    {
     "data": {
      "text/html": [
       "<div>\n",
       "<style scoped>\n",
       "    .dataframe tbody tr th:only-of-type {\n",
       "        vertical-align: middle;\n",
       "    }\n",
       "\n",
       "    .dataframe tbody tr th {\n",
       "        vertical-align: top;\n",
       "    }\n",
       "\n",
       "    .dataframe thead th {\n",
       "        text-align: right;\n",
       "    }\n",
       "</style>\n",
       "<table border=\"1\" class=\"dataframe\">\n",
       "  <thead>\n",
       "    <tr style=\"text-align: right;\">\n",
       "      <th></th>\n",
       "      <th>unnamed:_0</th>\n",
       "      <th>customer</th>\n",
       "      <th>state</th>\n",
       "      <th>customer_lifetime_value</th>\n",
       "      <th>response</th>\n",
       "      <th>coverage</th>\n",
       "      <th>education</th>\n",
       "      <th>effective_to_date</th>\n",
       "      <th>employmentstatus</th>\n",
       "      <th>gender</th>\n",
       "      <th>income</th>\n",
       "      <th>location_code</th>\n",
       "      <th>marital_status</th>\n",
       "      <th>monthly_premium_auto</th>\n",
       "      <th>months_since_last_claim</th>\n",
       "      <th>months_since_policy_inception</th>\n",
       "      <th>number_of_open_complaints</th>\n",
       "      <th>number_of_policies</th>\n",
       "      <th>policy_type</th>\n",
       "      <th>policy</th>\n",
       "      <th>renew_offer_type</th>\n",
       "      <th>sales_channel</th>\n",
       "      <th>total_claim_amount</th>\n",
       "      <th>vehicle_class</th>\n",
       "      <th>vehicle_size</th>\n",
       "      <th>vehicle_type</th>\n",
       "    </tr>\n",
       "  </thead>\n",
       "  <tbody>\n",
       "    <tr>\n",
       "      <th>0</th>\n",
       "      <td>0</td>\n",
       "      <td>dk49336</td>\n",
       "      <td>arizona</td>\n",
       "      <td>4809.216960</td>\n",
       "      <td>no</td>\n",
       "      <td>basic</td>\n",
       "      <td>college</td>\n",
       "      <td>2011-02-18</td>\n",
       "      <td>employed</td>\n",
       "      <td>m</td>\n",
       "      <td>48029</td>\n",
       "      <td>suburban</td>\n",
       "      <td>married</td>\n",
       "      <td>61</td>\n",
       "      <td>7.0</td>\n",
       "      <td>52</td>\n",
       "      <td>0.0</td>\n",
       "      <td>9</td>\n",
       "      <td>corporate_auto</td>\n",
       "      <td>corporate_l3</td>\n",
       "      <td>offer3</td>\n",
       "      <td>agent</td>\n",
       "      <td>292.800000</td>\n",
       "      <td>four-door_car</td>\n",
       "      <td>medsize</td>\n",
       "      <td>NaN</td>\n",
       "    </tr>\n",
       "    <tr>\n",
       "      <th>1</th>\n",
       "      <td>1</td>\n",
       "      <td>kx64629</td>\n",
       "      <td>california</td>\n",
       "      <td>2228.525238</td>\n",
       "      <td>no</td>\n",
       "      <td>basic</td>\n",
       "      <td>college</td>\n",
       "      <td>2011-01-18</td>\n",
       "      <td>unemployed</td>\n",
       "      <td>f</td>\n",
       "      <td>0</td>\n",
       "      <td>suburban</td>\n",
       "      <td>single</td>\n",
       "      <td>64</td>\n",
       "      <td>3.0</td>\n",
       "      <td>26</td>\n",
       "      <td>0.0</td>\n",
       "      <td>1</td>\n",
       "      <td>personal_auto</td>\n",
       "      <td>personal_l3</td>\n",
       "      <td>offer4</td>\n",
       "      <td>call_center</td>\n",
       "      <td>744.924331</td>\n",
       "      <td>four-door_car</td>\n",
       "      <td>medsize</td>\n",
       "      <td>NaN</td>\n",
       "    </tr>\n",
       "    <tr>\n",
       "      <th>2</th>\n",
       "      <td>2</td>\n",
       "      <td>lz68649</td>\n",
       "      <td>washington</td>\n",
       "      <td>14947.917300</td>\n",
       "      <td>no</td>\n",
       "      <td>basic</td>\n",
       "      <td>bachelor</td>\n",
       "      <td>2011-02-10</td>\n",
       "      <td>employed</td>\n",
       "      <td>m</td>\n",
       "      <td>22139</td>\n",
       "      <td>suburban</td>\n",
       "      <td>single</td>\n",
       "      <td>100</td>\n",
       "      <td>34.0</td>\n",
       "      <td>31</td>\n",
       "      <td>0.0</td>\n",
       "      <td>2</td>\n",
       "      <td>personal_auto</td>\n",
       "      <td>personal_l3</td>\n",
       "      <td>offer3</td>\n",
       "      <td>call_center</td>\n",
       "      <td>480.000000</td>\n",
       "      <td>suv</td>\n",
       "      <td>medsize</td>\n",
       "      <td>a</td>\n",
       "    </tr>\n",
       "    <tr>\n",
       "      <th>3</th>\n",
       "      <td>3</td>\n",
       "      <td>xl78013</td>\n",
       "      <td>oregon</td>\n",
       "      <td>22332.439460</td>\n",
       "      <td>yes</td>\n",
       "      <td>extended</td>\n",
       "      <td>college</td>\n",
       "      <td>2011-01-11</td>\n",
       "      <td>employed</td>\n",
       "      <td>m</td>\n",
       "      <td>49078</td>\n",
       "      <td>suburban</td>\n",
       "      <td>single</td>\n",
       "      <td>97</td>\n",
       "      <td>10.0</td>\n",
       "      <td>3</td>\n",
       "      <td>0.0</td>\n",
       "      <td>2</td>\n",
       "      <td>corporate_auto</td>\n",
       "      <td>corporate_l3</td>\n",
       "      <td>offer2</td>\n",
       "      <td>branch</td>\n",
       "      <td>484.013411</td>\n",
       "      <td>four-door_car</td>\n",
       "      <td>medsize</td>\n",
       "      <td>a</td>\n",
       "    </tr>\n",
       "    <tr>\n",
       "      <th>4</th>\n",
       "      <td>4</td>\n",
       "      <td>qa50777</td>\n",
       "      <td>oregon</td>\n",
       "      <td>9025.067525</td>\n",
       "      <td>no</td>\n",
       "      <td>premium</td>\n",
       "      <td>bachelor</td>\n",
       "      <td>2011-01-17</td>\n",
       "      <td>medical_leave</td>\n",
       "      <td>f</td>\n",
       "      <td>23675</td>\n",
       "      <td>suburban</td>\n",
       "      <td>married</td>\n",
       "      <td>117</td>\n",
       "      <td>NaN</td>\n",
       "      <td>31</td>\n",
       "      <td>NaN</td>\n",
       "      <td>7</td>\n",
       "      <td>personal_auto</td>\n",
       "      <td>personal_l2</td>\n",
       "      <td>offer1</td>\n",
       "      <td>branch</td>\n",
       "      <td>707.925645</td>\n",
       "      <td>four-door_car</td>\n",
       "      <td>medsize</td>\n",
       "      <td>NaN</td>\n",
       "    </tr>\n",
       "    <tr>\n",
       "      <th>...</th>\n",
       "      <td>...</td>\n",
       "      <td>...</td>\n",
       "      <td>...</td>\n",
       "      <td>...</td>\n",
       "      <td>...</td>\n",
       "      <td>...</td>\n",
       "      <td>...</td>\n",
       "      <td>...</td>\n",
       "      <td>...</td>\n",
       "      <td>...</td>\n",
       "      <td>...</td>\n",
       "      <td>...</td>\n",
       "      <td>...</td>\n",
       "      <td>...</td>\n",
       "      <td>...</td>\n",
       "      <td>...</td>\n",
       "      <td>...</td>\n",
       "      <td>...</td>\n",
       "      <td>...</td>\n",
       "      <td>...</td>\n",
       "      <td>...</td>\n",
       "      <td>...</td>\n",
       "      <td>...</td>\n",
       "      <td>...</td>\n",
       "      <td>...</td>\n",
       "      <td>...</td>\n",
       "    </tr>\n",
       "    <tr>\n",
       "      <th>10905</th>\n",
       "      <td>10905</td>\n",
       "      <td>fe99816</td>\n",
       "      <td>nevada</td>\n",
       "      <td>15563.369440</td>\n",
       "      <td>no</td>\n",
       "      <td>premium</td>\n",
       "      <td>bachelor</td>\n",
       "      <td>2011-01-19</td>\n",
       "      <td>unemployed</td>\n",
       "      <td>f</td>\n",
       "      <td>0</td>\n",
       "      <td>suburban</td>\n",
       "      <td>married</td>\n",
       "      <td>253</td>\n",
       "      <td>NaN</td>\n",
       "      <td>40</td>\n",
       "      <td>NaN</td>\n",
       "      <td>7</td>\n",
       "      <td>personal_auto</td>\n",
       "      <td>personal_l1</td>\n",
       "      <td>offer3</td>\n",
       "      <td>web</td>\n",
       "      <td>1214.400000</td>\n",
       "      <td>luxury_car</td>\n",
       "      <td>medsize</td>\n",
       "      <td>a</td>\n",
       "    </tr>\n",
       "    <tr>\n",
       "      <th>10906</th>\n",
       "      <td>10906</td>\n",
       "      <td>kx53892</td>\n",
       "      <td>oregon</td>\n",
       "      <td>5259.444853</td>\n",
       "      <td>no</td>\n",
       "      <td>basic</td>\n",
       "      <td>college</td>\n",
       "      <td>2011-01-06</td>\n",
       "      <td>employed</td>\n",
       "      <td>f</td>\n",
       "      <td>61146</td>\n",
       "      <td>urban</td>\n",
       "      <td>married</td>\n",
       "      <td>65</td>\n",
       "      <td>7.0</td>\n",
       "      <td>68</td>\n",
       "      <td>0.0</td>\n",
       "      <td>6</td>\n",
       "      <td>personal_auto</td>\n",
       "      <td>personal_l3</td>\n",
       "      <td>offer2</td>\n",
       "      <td>branch</td>\n",
       "      <td>273.018929</td>\n",
       "      <td>four-door_car</td>\n",
       "      <td>medsize</td>\n",
       "      <td>a</td>\n",
       "    </tr>\n",
       "    <tr>\n",
       "      <th>10907</th>\n",
       "      <td>10907</td>\n",
       "      <td>tl39050</td>\n",
       "      <td>arizona</td>\n",
       "      <td>23893.304100</td>\n",
       "      <td>no</td>\n",
       "      <td>extended</td>\n",
       "      <td>bachelor</td>\n",
       "      <td>2011-02-06</td>\n",
       "      <td>employed</td>\n",
       "      <td>f</td>\n",
       "      <td>39837</td>\n",
       "      <td>rural</td>\n",
       "      <td>married</td>\n",
       "      <td>201</td>\n",
       "      <td>11.0</td>\n",
       "      <td>63</td>\n",
       "      <td>0.0</td>\n",
       "      <td>2</td>\n",
       "      <td>corporate_auto</td>\n",
       "      <td>corporate_l3</td>\n",
       "      <td>offer1</td>\n",
       "      <td>web</td>\n",
       "      <td>381.306996</td>\n",
       "      <td>luxury_suv</td>\n",
       "      <td>medsize</td>\n",
       "      <td>NaN</td>\n",
       "    </tr>\n",
       "    <tr>\n",
       "      <th>10908</th>\n",
       "      <td>10908</td>\n",
       "      <td>wa60547</td>\n",
       "      <td>california</td>\n",
       "      <td>11971.977650</td>\n",
       "      <td>no</td>\n",
       "      <td>premium</td>\n",
       "      <td>college</td>\n",
       "      <td>2011-02-13</td>\n",
       "      <td>employed</td>\n",
       "      <td>f</td>\n",
       "      <td>64195</td>\n",
       "      <td>urban</td>\n",
       "      <td>divorced</td>\n",
       "      <td>158</td>\n",
       "      <td>0.0</td>\n",
       "      <td>27</td>\n",
       "      <td>4.0</td>\n",
       "      <td>6</td>\n",
       "      <td>personal_auto</td>\n",
       "      <td>personal_l1</td>\n",
       "      <td>offer1</td>\n",
       "      <td>branch</td>\n",
       "      <td>618.288849</td>\n",
       "      <td>suv</td>\n",
       "      <td>medsize</td>\n",
       "      <td>a</td>\n",
       "    </tr>\n",
       "    <tr>\n",
       "      <th>10909</th>\n",
       "      <td>10909</td>\n",
       "      <td>iv32877</td>\n",
       "      <td>NaN</td>\n",
       "      <td>6857.519928</td>\n",
       "      <td>NaN</td>\n",
       "      <td>basic</td>\n",
       "      <td>bachelor</td>\n",
       "      <td>2011-01-08</td>\n",
       "      <td>unemployed</td>\n",
       "      <td>m</td>\n",
       "      <td>0</td>\n",
       "      <td>suburban</td>\n",
       "      <td>single</td>\n",
       "      <td>101</td>\n",
       "      <td>31.0</td>\n",
       "      <td>1</td>\n",
       "      <td>0.0</td>\n",
       "      <td>3</td>\n",
       "      <td>personal_auto</td>\n",
       "      <td>personal_l1</td>\n",
       "      <td>offer4</td>\n",
       "      <td>web</td>\n",
       "      <td>1021.719397</td>\n",
       "      <td>suv</td>\n",
       "      <td>medsize</td>\n",
       "      <td>NaN</td>\n",
       "    </tr>\n",
       "  </tbody>\n",
       "</table>\n",
       "<p>10910 rows × 26 columns</p>\n",
       "</div>"
      ],
      "text/plain": [
       "       unnamed:_0 customer       state  customer_lifetime_value response  \\\n",
       "0               0  dk49336     arizona              4809.216960       no   \n",
       "1               1  kx64629  california              2228.525238       no   \n",
       "2               2  lz68649  washington             14947.917300       no   \n",
       "3               3  xl78013      oregon             22332.439460      yes   \n",
       "4               4  qa50777      oregon              9025.067525       no   \n",
       "...           ...      ...         ...                      ...      ...   \n",
       "10905       10905  fe99816      nevada             15563.369440       no   \n",
       "10906       10906  kx53892      oregon              5259.444853       no   \n",
       "10907       10907  tl39050     arizona             23893.304100       no   \n",
       "10908       10908  wa60547  california             11971.977650       no   \n",
       "10909       10909  iv32877         NaN              6857.519928      NaN   \n",
       "\n",
       "       coverage education effective_to_date employmentstatus gender  income  \\\n",
       "0         basic   college        2011-02-18         employed      m   48029   \n",
       "1         basic   college        2011-01-18       unemployed      f       0   \n",
       "2         basic  bachelor        2011-02-10         employed      m   22139   \n",
       "3      extended   college        2011-01-11         employed      m   49078   \n",
       "4       premium  bachelor        2011-01-17    medical_leave      f   23675   \n",
       "...         ...       ...               ...              ...    ...     ...   \n",
       "10905   premium  bachelor        2011-01-19       unemployed      f       0   \n",
       "10906     basic   college        2011-01-06         employed      f   61146   \n",
       "10907  extended  bachelor        2011-02-06         employed      f   39837   \n",
       "10908   premium   college        2011-02-13         employed      f   64195   \n",
       "10909     basic  bachelor        2011-01-08       unemployed      m       0   \n",
       "\n",
       "      location_code marital_status  monthly_premium_auto  \\\n",
       "0          suburban        married                    61   \n",
       "1          suburban         single                    64   \n",
       "2          suburban         single                   100   \n",
       "3          suburban         single                    97   \n",
       "4          suburban        married                   117   \n",
       "...             ...            ...                   ...   \n",
       "10905      suburban        married                   253   \n",
       "10906         urban        married                    65   \n",
       "10907         rural        married                   201   \n",
       "10908         urban       divorced                   158   \n",
       "10909      suburban         single                   101   \n",
       "\n",
       "       months_since_last_claim  months_since_policy_inception  \\\n",
       "0                          7.0                             52   \n",
       "1                          3.0                             26   \n",
       "2                         34.0                             31   \n",
       "3                         10.0                              3   \n",
       "4                          NaN                             31   \n",
       "...                        ...                            ...   \n",
       "10905                      NaN                             40   \n",
       "10906                      7.0                             68   \n",
       "10907                     11.0                             63   \n",
       "10908                      0.0                             27   \n",
       "10909                     31.0                              1   \n",
       "\n",
       "       number_of_open_complaints  number_of_policies     policy_type  \\\n",
       "0                            0.0                   9  corporate_auto   \n",
       "1                            0.0                   1   personal_auto   \n",
       "2                            0.0                   2   personal_auto   \n",
       "3                            0.0                   2  corporate_auto   \n",
       "4                            NaN                   7   personal_auto   \n",
       "...                          ...                 ...             ...   \n",
       "10905                        NaN                   7   personal_auto   \n",
       "10906                        0.0                   6   personal_auto   \n",
       "10907                        0.0                   2  corporate_auto   \n",
       "10908                        4.0                   6   personal_auto   \n",
       "10909                        0.0                   3   personal_auto   \n",
       "\n",
       "             policy renew_offer_type sales_channel  total_claim_amount  \\\n",
       "0      corporate_l3           offer3         agent          292.800000   \n",
       "1       personal_l3           offer4   call_center          744.924331   \n",
       "2       personal_l3           offer3   call_center          480.000000   \n",
       "3      corporate_l3           offer2        branch          484.013411   \n",
       "4       personal_l2           offer1        branch          707.925645   \n",
       "...             ...              ...           ...                 ...   \n",
       "10905   personal_l1           offer3           web         1214.400000   \n",
       "10906   personal_l3           offer2        branch          273.018929   \n",
       "10907  corporate_l3           offer1           web          381.306996   \n",
       "10908   personal_l1           offer1        branch          618.288849   \n",
       "10909   personal_l1           offer4           web         1021.719397   \n",
       "\n",
       "       vehicle_class vehicle_size vehicle_type  \n",
       "0      four-door_car      medsize          NaN  \n",
       "1      four-door_car      medsize          NaN  \n",
       "2                suv      medsize            a  \n",
       "3      four-door_car      medsize            a  \n",
       "4      four-door_car      medsize          NaN  \n",
       "...              ...          ...          ...  \n",
       "10905     luxury_car      medsize            a  \n",
       "10906  four-door_car      medsize            a  \n",
       "10907     luxury_suv      medsize          NaN  \n",
       "10908            suv      medsize            a  \n",
       "10909            suv      medsize          NaN  \n",
       "\n",
       "[10910 rows x 26 columns]"
      ]
     },
     "execution_count": 157,
     "metadata": {},
     "output_type": "execute_result"
    }
   ],
   "source": [
    "df"
   ]
  },
  {
   "cell_type": "code",
   "execution_count": 159,
   "id": "0b25f129-a2b3-4761-a629-1e7342217335",
   "metadata": {},
   "outputs": [],
   "source": [
    "# we have to extract the months from that column\n",
    "df[\"month\"] = df[\"effective_to_date\"].dt.month"
   ]
  },
  {
   "cell_type": "code",
   "execution_count": 182,
   "id": "18b3f626-c9d3-4c4d-973b-5bf7a6791ed1",
   "metadata": {},
   "outputs": [],
   "source": [
    "df3 = df.groupby([\"state\", \"month\"])[\"number_of_policies\"].sum().unstack()"
   ]
  },
  {
   "cell_type": "code",
   "execution_count": 184,
   "id": "abc287cd-3ab4-432e-9723-b261411b24ef",
   "metadata": {},
   "outputs": [],
   "source": [
    "df3 = df3.rename(columns = {\"1\" : \"january\", \"2\" : \"february\"})"
   ]
  },
  {
   "cell_type": "code",
   "execution_count": 186,
   "id": "f35c2a59-f5d4-4474-b76d-432ac3710d79",
   "metadata": {},
   "outputs": [
    {
     "data": {
      "text/html": [
       "<div>\n",
       "<style scoped>\n",
       "    .dataframe tbody tr th:only-of-type {\n",
       "        vertical-align: middle;\n",
       "    }\n",
       "\n",
       "    .dataframe tbody tr th {\n",
       "        vertical-align: top;\n",
       "    }\n",
       "\n",
       "    .dataframe thead th {\n",
       "        text-align: right;\n",
       "    }\n",
       "</style>\n",
       "<table border=\"1\" class=\"dataframe\">\n",
       "  <thead>\n",
       "    <tr style=\"text-align: right;\">\n",
       "      <th>month</th>\n",
       "      <th>1</th>\n",
       "      <th>2</th>\n",
       "    </tr>\n",
       "    <tr>\n",
       "      <th>state</th>\n",
       "      <th></th>\n",
       "      <th></th>\n",
       "    </tr>\n",
       "  </thead>\n",
       "  <tbody>\n",
       "    <tr>\n",
       "      <th>arizona</th>\n",
       "      <td>3052</td>\n",
       "      <td>2864</td>\n",
       "    </tr>\n",
       "    <tr>\n",
       "      <th>california</th>\n",
       "      <td>5673</td>\n",
       "      <td>4929</td>\n",
       "    </tr>\n",
       "    <tr>\n",
       "      <th>nevada</th>\n",
       "      <td>1493</td>\n",
       "      <td>1278</td>\n",
       "    </tr>\n",
       "    <tr>\n",
       "      <th>oregon</th>\n",
       "      <td>4697</td>\n",
       "      <td>3969</td>\n",
       "    </tr>\n",
       "    <tr>\n",
       "      <th>washington</th>\n",
       "      <td>1358</td>\n",
       "      <td>1225</td>\n",
       "    </tr>\n",
       "  </tbody>\n",
       "</table>\n",
       "</div>"
      ],
      "text/plain": [
       "month          1     2\n",
       "state                 \n",
       "arizona     3052  2864\n",
       "california  5673  4929\n",
       "nevada      1493  1278\n",
       "oregon      4697  3969\n",
       "washington  1358  1225"
      ]
     },
     "execution_count": 186,
     "metadata": {},
     "output_type": "execute_result"
    }
   ],
   "source": [
    "df3"
   ]
  },
  {
   "cell_type": "code",
   "execution_count": 190,
   "id": "6741e5be-197a-4233-bc52-f3c2f4759d7f",
   "metadata": {},
   "outputs": [
    {
     "data": {
      "text/plain": [
       "Index([1, 2], dtype='int64', name='month')"
      ]
     },
     "execution_count": 190,
     "metadata": {},
     "output_type": "execute_result"
    }
   ],
   "source": [
    "df3.columns"
   ]
  },
  {
   "cell_type": "markdown",
   "id": "b13a9e40-e4ab-4b52-b4b1-cb0ca871fd37",
   "metadata": {},
   "source": [
    "# 6"
   ]
  },
  {
   "cell_type": "code",
   "execution_count": null,
   "id": "61092b2d-5129-4cbf-815f-e340fdd63f5e",
   "metadata": {},
   "outputs": [],
   "source": [
    "dftop3 = df "
   ]
  }
 ],
 "metadata": {
  "colab": {
   "provenance": []
  },
  "kernelspec": {
   "display_name": "Python 3 (ipykernel)",
   "language": "python",
   "name": "python3"
  },
  "language_info": {
   "codemirror_mode": {
    "name": "ipython",
    "version": 3
   },
   "file_extension": ".py",
   "mimetype": "text/x-python",
   "name": "python",
   "nbconvert_exporter": "python",
   "pygments_lexer": "ipython3",
   "version": "3.12.4"
  }
 },
 "nbformat": 4,
 "nbformat_minor": 5
}
